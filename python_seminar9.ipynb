{
 "cells": [
  {
   "cell_type": "code",
   "execution_count": 1,
   "id": "f6c917ad-8792-4a9d-aad9-4978c67c19bf",
   "metadata": {},
   "outputs": [],
   "source": [
    "# Работать с файлом california_housing_train.csv, который находится в папке sample_data.\n",
    "# Определить среднюю стоимость дома, где кол-во людей от 0 до 500 (population)."
   ]
  },
  {
   "cell_type": "code",
   "execution_count": 2,
   "id": "11585539-fdd6-446b-a12a-06aaa58422bf",
   "metadata": {},
   "outputs": [],
   "source": [
    "import pandas as pd"
   ]
  },
  {
   "cell_type": "code",
   "execution_count": 3,
   "id": "32249deb-24a8-4cb1-9304-cd153fef360b",
   "metadata": {},
   "outputs": [],
   "source": [
    "df = pd.read_csv('california_housing_train.csv')"
   ]
  },
  {
   "cell_type": "code",
   "execution_count": 4,
   "id": "148ff3a8-58e2-439f-ba4e-3b8c72746307",
   "metadata": {},
   "outputs": [],
   "source": [
    "mean = df.loc[df['population'] < 500]['median_house_value'].mean()"
   ]
  },
  {
   "cell_type": "code",
   "execution_count": 5,
   "id": "3f6c9fc7-7b8e-461b-bbe5-652a836cd02b",
   "metadata": {},
   "outputs": [
    {
     "name": "stdout",
     "output_type": "stream",
     "text": [
      "Cредняя стоимость дома, где кол-во людей от 0 до 500 (population): 206683.83635227982\n"
     ]
    }
   ],
   "source": [
    "print(f'Cредняя стоимость дома, где кол-во людей от 0 до 500 (population): {mean}')"
   ]
  },
  {
   "cell_type": "code",
   "execution_count": 6,
   "id": "cc976fae-6d78-433e-9412-e4e22b9c2bb6",
   "metadata": {},
   "outputs": [],
   "source": [
    "# Узнать какая максимальная households в зоне минимального значения population"
   ]
  },
  {
   "cell_type": "code",
   "execution_count": 7,
   "id": "37493898-5efd-487d-8dae-33a3901816eb",
   "metadata": {},
   "outputs": [
    {
     "name": "stdout",
     "output_type": "stream",
     "text": [
      "Mаксимальная households в зоне минимального значения population = 1.0\n"
     ]
    }
   ],
   "source": [
    "print(f'Mаксимальная households в зоне минимального значения population = {df.describe().min().households}')"
   ]
  }
 ],
 "metadata": {
  "kernelspec": {
   "display_name": "Python 3 (ipykernel)",
   "language": "python",
   "name": "python3"
  },
  "language_info": {
   "codemirror_mode": {
    "name": "ipython",
    "version": 3
   },
   "file_extension": ".py",
   "mimetype": "text/x-python",
   "name": "python",
   "nbconvert_exporter": "python",
   "pygments_lexer": "ipython3",
   "version": "3.11.5"
  }
 },
 "nbformat": 4,
 "nbformat_minor": 5
}
